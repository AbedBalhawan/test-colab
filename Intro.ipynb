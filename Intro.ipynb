{
  "nbformat": 4,
  "nbformat_minor": 0,
  "metadata": {
    "colab": {
      "provenance": [],
      "collapsed_sections": [],
      "authorship_tag": "ABX9TyOnOIHHc2mA/EEVfrCkxjPG",
      "include_colab_link": true
    },
    "kernelspec": {
      "name": "python3",
      "display_name": "Python 3"
    },
    "language_info": {
      "name": "python"
    }
  },
  "cells": [
    {
      "cell_type": "markdown",
      "metadata": {
        "id": "view-in-github",
        "colab_type": "text"
      },
      "source": [
        "<a href=\"https://colab.research.google.com/github/AbedBalhawan/test-colab/blob/main/Intro.ipynb\" target=\"_parent\"><img src=\"https://colab.research.google.com/assets/colab-badge.svg\" alt=\"Open In Colab\"/></a>"
      ]
    },
    {
      "cell_type": "code",
      "source": [
        "import sqlite3\n",
        " \n",
        " \n",
        "conn = sqlite3.connect('esmartdata.sqlite3')\n",
        "cur = conn.cursor()\n",
        " \n",
        "cur.execute('''DROP TABLE IF EXISTS \"esmartdata_instructor\"''')\n",
        "cur.execute('''CREATE TABLE IF NOT EXISTS \"esmartdata_instructor\" (\n",
        "  \"id\" integer NOT NULL,\n",
        "  \"first_name\" text NOT NULL,\n",
        "  \"last_name\" text NOT NULL,\n",
        "  \"description\" text NOT NULL,\n",
        "  PRIMARY KEY(\"id\" AUTOINCREMENT)\n",
        ")''')\n",
        "conn.commit()\n",
        "\n",
        "cur.execute('''DROP TABLE IF EXISTS \"esmartdata_course\"''')\n",
        "cur.execute('''CREATE TABLE IF NOT EXISTS \"esmartdata_course\"(\n",
        "  \"id\" integer NOT NULL,\n",
        "  \"title\" text NOT NULL,\n",
        "  \"subtitle\" text NOT NULL,\n",
        "  \"description\" text NOT NULL,\n",
        "  \"category\" text NOT NULL,\n",
        "  \"subcategory\" text NOT NULL,\n",
        "  \"language\" text NOT NULL,\n",
        "  \"length\" text NOT NULL,\n",
        "  \"rating\" real NOT NULL,\n",
        "  \"referral_link\" text NOT NULL,\n",
        "  \"instroctor_id\" integer NOT NULL,\n",
        "  PRIMARY KEY(\"id\" AUTOINCREMENT),\n",
        "  FOREIGN KEY(\"instroctor_id\") REFERENCES \"esmartdata_instructor\"(\"id\")\n",
        "  ON DELETE CASCADE ON UPDATE CASCADE\n",
        ")''')\n",
        "\n",
        "cur.execute('''INSERT INTO \"esmartdata_instructor\"\n",
        "(\n",
        "  \"id\",\n",
        "  \"first_name\",\n",
        "  \"last_name\",\n",
        "  \"description\"\n",
        ")\n",
        "VALUES\n",
        "(\n",
        " 1,\n",
        "  \"Pawel\",\n",
        "  \"Krakowiak\",\n",
        "  \"Data Scientist/Python Developer/Securities Broker\"\n",
        ")''')\n",
        "\n",
        "cur.execute('''INSERT INTO \"esmartdata_instructor\"\n",
        "(\n",
        "  \"id\",\n",
        "  \"first_name\",\n",
        "  \"last_name\",\n",
        "  \"description\"\n",
        ")\n",
        "VALUES\n",
        "(\n",
        "  2,\n",
        "  \"Pawel\",\n",
        "  \"Academy\",\n",
        "  \"Akademia Programowania\"\n",
        ")''')\n",
        "\n",
        "cur.execute(\"\"\"SELECT* from esmartdata_instructor\n",
        "WHERE id = 1\"\"\")\n",
        "print(cur.fetchall())\n",
        "print(\"HI\")\n",
        "\n",
        "conn.commit()\n",
        "conn.close()"
      ],
      "metadata": {
        "colab": {
          "base_uri": "https://localhost:8080/"
        },
        "id": "oqLhU4CQUGa5",
        "outputId": "b7e3c54f-7e50-48f3-96fc-201aa2280e66"
      },
      "execution_count": 35,
      "outputs": [
        {
          "output_type": "stream",
          "name": "stdout",
          "text": [
            "[(1, 'Pawel', 'Krakowiak', 'Data Scientist/Python Developer/Securities Broker')]\n",
            "HI\n"
          ]
        }
      ]
    }
  ]
}